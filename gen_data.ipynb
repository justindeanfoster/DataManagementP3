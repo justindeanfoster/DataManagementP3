{
 "cells": [
  {
   "cell_type": "code",
   "execution_count": 12,
   "metadata": {},
   "outputs": [
    {
     "name": "stdout",
     "output_type": "stream",
     "text": [
      "Requirement already satisfied: random-address in c:\\users\\justin\\appdata\\local\\packages\\pythonsoftwarefoundation.python.3.10_qbz5n2kfra8p0\\localcache\\local-packages\\python310\\site-packages (1.1.1)\n"
     ]
    },
    {
     "name": "stderr",
     "output_type": "stream",
     "text": [
      "\n",
      "[notice] A new release of pip available: 22.3.1 -> 23.0.1\n",
      "[notice] To update, run: C:\\Users\\Justin\\AppData\\Local\\Microsoft\\WindowsApps\\PythonSoftwareFoundation.Python.3.10_qbz5n2kfra8p0\\python.exe -m pip install --upgrade pip\n"
     ]
    }
   ],
   "source": [
    "!pip install random-address"
   ]
  },
  {
   "cell_type": "code",
   "execution_count": 13,
   "metadata": {},
   "outputs": [],
   "source": [
    "import csv\n",
    "import random\n",
    "import string\n",
    "from random_address import real_random_address\n",
    "import names\n"
   ]
  },
  {
   "cell_type": "code",
   "execution_count": 27,
   "metadata": {},
   "outputs": [
    {
     "name": "stdout",
     "output_type": "stream",
     "text": [
      "CSV file generated successfully!\n"
     ]
    }
   ],
   "source": [
    "\n",
    "# Function to generate random string of given length\n",
    "def generate_random_string(length):\n",
    "    return ''.join(random.choices(string.ascii_lowercase, k=length))\n",
    "\n",
    "# Open CSV file for writing\n",
    "with open('address_district.csv', mode='w', newline='') as file:\n",
    "\n",
    "    # Create CSV writer object\n",
    "    writer = csv.writer(file)\n",
    "\n",
    "    # Write header row to CSV file\n",
    "    #writer.writerow(['address', 'district'])\n",
    "    addresses = []\n",
    "    # Generate and write 100 rows of synthetic data to CSV file\n",
    "    for i in range(100):\n",
    "        \n",
    "        real_address = real_random_address()\n",
    "        while real_address in addresses or 'city' not in real_address:\n",
    "            real_address = real_random_address()\n",
    "        addresses.append(real_address)\n",
    "        address = real_address['address1']\n",
    "        district = real_address['city']\n",
    "        writer.writerow([address, district])\n",
    "\n",
    "print('CSV file generated successfully!')\n"
   ]
  },
  {
   "cell_type": "code",
   "execution_count": 28,
   "metadata": {},
   "outputs": [
    {
     "name": "stdout",
     "output_type": "stream",
     "text": [
      "CSV file generated successfully!\n"
     ]
    }
   ],
   "source": [
    "\n",
    "# Open CSV file for writing\n",
    "with open('size_priority.csv', mode='w', newline='') as file:\n",
    "\n",
    "    # Create CSV writer object\n",
    "    writer = csv.writer(file)\n",
    "\n",
    "    # Write header row to CSV file\n",
    "    #writer.writerow(['pothole_size', 'repair_priority'])\n",
    "\n",
    "    # Generate and write 100 rows of synthetic data to CSV file\n",
    "    for i in range(100):\n",
    "        pothole_size = i + 1\n",
    "        repair_priority = random.randint(1, 10)\n",
    "        writer.writerow([pothole_size, repair_priority])\n",
    "\n",
    "print('CSV file generated successfully!')\n"
   ]
  },
  {
   "cell_type": "code",
   "execution_count": 29,
   "metadata": {},
   "outputs": [
    {
     "name": "stdout",
     "output_type": "stream",
     "text": [
      "CSV file generated successfully!\n"
     ]
    }
   ],
   "source": [
    "with open('pothole.csv', mode='w', newline='') as file:\n",
    "\n",
    "    # Create CSV writer object\n",
    "    writer = csv.writer(file)\n",
    "\n",
    "    # Write header row to CSV file\n",
    "    #writer.writerow(['pothole_id', 'street_address', 'pothole_size', 'street_location'])\n",
    "\n",
    "    # Generate and write 100 rows of synthetic data to CSV file\n",
    "    for i in range(100):\n",
    "        real_address = addresses[random.randint(0,len(addresses) - 1)]\n",
    "        pothole_id = i + 1\n",
    "        street_address = real_address['address1']\n",
    "        pothole_size = random.randint(1, 10)\n",
    "        street_location = generate_random_string(5)\n",
    "        writer.writerow([pothole_id, street_address, pothole_size, street_location])\n",
    "\n",
    "print('CSV file generated successfully!')"
   ]
  },
  {
   "cell_type": "code",
   "execution_count": 30,
   "metadata": {},
   "outputs": [
    {
     "name": "stdout",
     "output_type": "stream",
     "text": [
      "CSV file generated successfully!\n"
     ]
    }
   ],
   "source": [
    "with open('property_damage.csv', mode='w', newline='') as file:\n",
    "\n",
    "    # Create CSV writer object\n",
    "    writer = csv.writer(file)\n",
    "\n",
    "    # Write header row to CSV file\n",
    "    #writer.writerow(['property_damage_id', 'citizen_name', 'citizen_address', 'citizen_phone_number', 'damage_type', 'dollar_amt', 'pothole_id'])\n",
    "\n",
    "    # Generate and write 100 rows of synthetic data to CSV file\n",
    "    for i in range(100):\n",
    "        property_damage_id = i + 1\n",
    "        citizen_name = names.get_full_name()\n",
    "        citizen_address = real_random_address()['address1']\n",
    "        citizen_phone_number = ''.join(random.choices(string.digits, k=10))\n",
    "        damage_type = random.choice(['vehicle', 'building', 'fence'])\n",
    "        dollar_amt = round(random.uniform(100, 1000), 2)\n",
    "        pothole_id = random.randint(1, 100)\n",
    "        writer.writerow([property_damage_id, citizen_name, citizen_address, citizen_phone_number, damage_type, dollar_amt, pothole_id])\n",
    "\n",
    "print('CSV file generated successfully!')"
   ]
  },
  {
   "cell_type": "code",
   "execution_count": 31,
   "metadata": {},
   "outputs": [
    {
     "name": "stdout",
     "output_type": "stream",
     "text": [
      "CSV file generated successfully!\n"
     ]
    }
   ],
   "source": [
    "with open('work_crew.csv', mode='w', newline='') as file:\n",
    "\n",
    "    # Create CSV writer object\n",
    "    writer = csv.writer(file)\n",
    "\n",
    "    # Write header row to CSV file\n",
    "    #writer.writerow(['work_crew_id', 'num_people'])\n",
    "\n",
    "    # Generate and write 10 rows of synthetic data to CSV file\n",
    "    for i in range(10):\n",
    "        work_crew_id = i + 1\n",
    "        num_people = random.randint(5, 10)\n",
    "        writer.writerow([work_crew_id, num_people])\n",
    "\n",
    "print('CSV file generated successfully!')"
   ]
  },
  {
   "cell_type": "code",
   "execution_count": 32,
   "metadata": {},
   "outputs": [
    {
     "name": "stdout",
     "output_type": "stream",
     "text": [
      "CSV file generated successfully!\n"
     ]
    }
   ],
   "source": [
    "with open('equipment.csv', mode='w', newline='') as file:\n",
    "\n",
    "    # Create CSV writer object\n",
    "    writer = csv.writer(file)\n",
    "\n",
    "    # Write header row to CSV file\n",
    "    #writer.writerow(['equipment_id', 'equipment_type', 'assigned_work_crew'])\n",
    "\n",
    "    # Generate and write 10 rows of synthetic data to CSV file\n",
    "    for i in range(10):\n",
    "        equipment_id = i + 1\n",
    "        equipment_type = random.choice(['Excavator', 'Backhoe', 'Loader', 'Grader', 'Roller'])\n",
    "        assigned_work_crew = random.randint(1, 10)\n",
    "        writer.writerow([equipment_id, equipment_type, assigned_work_crew])\n",
    "\n",
    "print('CSV file generated successfully!')"
   ]
  },
  {
   "cell_type": "code",
   "execution_count": 33,
   "metadata": {},
   "outputs": [
    {
     "name": "stdout",
     "output_type": "stream",
     "text": [
      "CSV file generated successfully!\n"
     ]
    }
   ],
   "source": [
    "with open('work_order.csv', mode='w', newline='') as file:\n",
    "\n",
    "    # Create CSV writer object\n",
    "    writer = csv.writer(file)\n",
    "\n",
    "    # Write header row to CSV file\n",
    "    #writer.writerow(['work_order_id', 'pothole_id', 'assigned_work_crew', 'hrs_applied', 'amt_filler_used', 'cost', 'status'])\n",
    "\n",
    "    # Generate and write 10 rows of synthetic data to CSV file\n",
    "    for i in range(50):\n",
    "        work_order_id = i + 1\n",
    "        pothole_id = random.randint(1, 10)\n",
    "        assigned_work_crew = random.randint(1, 10)\n",
    "        hrs_applied = round(random.uniform(1, 8), 2)\n",
    "        amt_filler_used = round(random.uniform(1, 5), 2)\n",
    "        cost = round(random.uniform(50, 500), 2)\n",
    "        status = random.choice(['Scheduled', 'In Progress', 'Completed'])\n",
    "        writer.writerow([work_order_id, pothole_id, assigned_work_crew, hrs_applied, amt_filler_used, cost, status])\n",
    "\n",
    "print('CSV file generated successfully!')"
   ]
  },
  {
   "cell_type": "code",
   "execution_count": null,
   "metadata": {},
   "outputs": [],
   "source": []
  }
 ],
 "metadata": {
  "kernelspec": {
   "display_name": "Python 3",
   "language": "python",
   "name": "python3"
  },
  "language_info": {
   "codemirror_mode": {
    "name": "ipython",
    "version": 3
   },
   "file_extension": ".py",
   "mimetype": "text/x-python",
   "name": "python",
   "nbconvert_exporter": "python",
   "pygments_lexer": "ipython3",
   "version": "3.10.10"
  },
  "orig_nbformat": 4,
  "vscode": {
   "interpreter": {
    "hash": "17ba29fad093bbdc518d612c1d67914c3165e5219207c643d1090e7d1961502a"
   }
  }
 },
 "nbformat": 4,
 "nbformat_minor": 2
}
